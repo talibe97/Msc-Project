{
 "cells": [
  {
   "cell_type": "markdown",
   "id": "18e041ba",
   "metadata": {},
   "source": [
    "# 3 Base Model"
   ]
  },
  {
   "cell_type": "code",
   "execution_count": 14,
   "id": "a46f1e95",
   "metadata": {},
   "outputs": [],
   "source": [
    "import sys\n",
    "import numpy as np\n",
    "sys.path.append('./the .py files')  # relative path from notebook to .py directory\n",
    "\n",
    "import data_loader\n",
    "import pre_processing as pre\n",
    "import evaluator"
   ]
  },
  {
   "cell_type": "code",
   "execution_count": 12,
   "id": "ceece1e6",
   "metadata": {},
   "outputs": [],
   "source": [
    "# function \n",
    "import numpy as np\n",
    "from sklearn.model_selection import train_test_split\n",
    "from sklearn.linear_model import LinearRegression\n",
    "\n",
    "def load_feature_data(npz_path):\n",
    "    \"\"\"\n",
    "    Load training and validation feature arrays from a compressed .npz file.\n",
    "\n",
    "    Parameters:\n",
    "        npz_path (str): Path to the saved .npz file.\n",
    "\n",
    "    Returns:\n",
    "        Tuple: X_train, y_train, X_val, y_val\n",
    "    \"\"\"\n",
    "    data = np.load(npz_path)\n",
    "    return data['X_train'], data['y_train'], data['X_val'], data['y_val']\n",
    "\n",
    "\n",
    "def split_data(X, y, test_size=0.2, random_state=42):\n",
    "    \"\"\"\n",
    "    Splits features and labels into training and validation sets.\n",
    "\n",
    "    Parameters:\n",
    "        X (np.ndarray): Feature matrix (2D or 3D).\n",
    "        y (np.ndarray): Target vector.\n",
    "        test_size (float): Fraction of data to use for validation.\n",
    "        random_state (int): Seed for reproducibility.\n",
    "\n",
    "    Returns:\n",
    "        Tuple: (X_train, X_val, y_train, y_val)\n",
    "    \"\"\"\n",
    "    return train_test_split(X, y, test_size=test_size, random_state=random_state)\n",
    "\n",
    "def train_linear_model(X_train, y_train):\n",
    "    \"\"\"\n",
    "    Trains a Linear Regression model.\n",
    "\n",
    "    Parameters:\n",
    "        X_train (np.ndarray): Training feature matrix.\n",
    "        y_train (np.ndarray): Training target values.\n",
    "\n",
    "    Returns:\n",
    "        Trained LinearRegression model.\n",
    "    \"\"\"\n",
    "    model = LinearRegression()\n",
    "    model.fit(X_train, y_train)\n",
    "    return model\n",
    "\n",
    "def predict(model, X):\n",
    "    \"\"\"\n",
    "    Uses the trained model to generate predictions.\n",
    "\n",
    "    Parameters:\n",
    "        model: A trained regression model with a `.predict()` method.\n",
    "        X (np.ndarray): Feature matrix to predict on.\n",
    "\n",
    "    Returns:\n",
    "        np.ndarray: Predicted RUL values.\n",
    "    \"\"\"\n",
    "    return model.predict(X)\n",
    "\n",
    "def run_base_model_pipeline(npz_path, strategy='last'):\n",
    "    \"\"\"\n",
    "    Full pipeline to train and run a linear model on feature data.\n",
    "\n",
    "    Parameters:\n",
    "        npz_path (str): Path to .npz file with preprocessed data.\n",
    "        strategy (str): Feature strategy used ('last', 'mean', 'flat') — placeholder for consistency.\n",
    "\n",
    "    Returns:\n",
    "        Tuple: (model, X_val, y_val, y_pred)\n",
    "    \"\"\"\n",
    "    # Step 1: Load data\n",
    "    X, y, _, _ = load_feature_data(npz_path)\n",
    "\n",
    "    # Step 2: Split into train/val\n",
    "    X_train, X_val, y_train, y_val = split_data(X, y)\n",
    "\n",
    "    # Step 3: Train model\n",
    "    model = train_linear_model(X_train, y_train)\n",
    "\n",
    "    # Step 4: Predict\n",
    "    y_pred = predict(model, X_val)\n",
    "\n",
    "    return model, X_val, y_val, y_pred"
   ]
  },
  {
   "cell_type": "code",
   "execution_count": 3,
   "id": "cba0e8c2",
   "metadata": {},
   "outputs": [
    {
     "name": "stdout",
     "output_type": "stream",
     "text": [
      "Data saved to fd001_last.npz\n",
      "Train shapes: (14184, 15) (14184,)\n",
      "Val shapes  : (3547, 15) (3547,)\n"
     ]
    }
   ],
   "source": [
    "# load_feature_data function test\n",
    "\n",
    "\n",
    "# Step 1: Load raw data\n",
    "df = data_loader.load_raw_data(\"CMaps/train_FD001.txt\")\n",
    "\n",
    "# Step 2: Preprocess\n",
    "df = pre.drop_flat_sensors(df)\n",
    "df = pre.calculate_rul(df)\n",
    "df = pre.standardise_per_condition(df)  # ✅ Standardise by operational settings\n",
    "\n",
    "# Step 3: Create sliding windows\n",
    "X_3d, y = pre.generate_sliding_windows(df, seq_len=30)\n",
    "\n",
    "# Step 4: Convert to 2D features\n",
    "X_2d = pre.make_feature_vectors_from_windows(X_3d, strategy='last')\n",
    "\n",
    "# Step 5: Split into train/val\n",
    "from sklearn.model_selection import train_test_split\n",
    "X_train, X_val, y_train, y_val = train_test_split(X_2d, y, test_size=0.2, random_state=42)\n",
    "\n",
    "# Step 6: Save as .npz\n",
    "pre.save_preprocessed_data(X_train, y_train, X_val, y_val, X_test=None, y_test=None, filename=\"fd001_last.npz\")\n",
    "\n",
    "# Step 7: Test your function\n",
    "X_tr, y_tr, X_vl, y_vl = load_feature_data(\"fd001_last.npz\")\n",
    "print(\"Train shapes:\", X_tr.shape, y_tr.shape)\n",
    "print(\"Val shapes  :\", X_vl.shape, y_vl.shape)"
   ]
  },
  {
   "cell_type": "code",
   "execution_count": 5,
   "id": "0db30120",
   "metadata": {},
   "outputs": [
    {
     "name": "stdout",
     "output_type": "stream",
     "text": [
      "X_train shape: (10638, 15)\n",
      "X_val shape  : (3546, 15)\n",
      "y_train shape: (10638,)\n",
      "y_val shape  : (3546,)\n"
     ]
    }
   ],
   "source": [
    "# split_data test\n",
    "\n",
    "X_train, X_val, y_train, y_val = split_data(X_tr, y_tr, test_size=0.25, random_state=123)\n",
    "\n",
    "print(\"X_train shape:\", X_train.shape)\n",
    "print(\"X_val shape  :\", X_val.shape)\n",
    "print(\"y_train shape:\", y_train.shape)\n",
    "print(\"y_val shape  :\", y_val.shape)"
   ]
  },
  {
   "cell_type": "code",
   "execution_count": 8,
   "id": "910413f9",
   "metadata": {},
   "outputs": [
    {
     "name": "stdout",
     "output_type": "stream",
     "text": [
      "Model trained: LinearRegression()\n"
     ]
    }
   ],
   "source": [
    "model = train_linear_model(X_train, y_train)\n",
    "print(\"Model trained:\", model)"
   ]
  },
  {
   "cell_type": "code",
   "execution_count": 10,
   "id": "7a42fdb5",
   "metadata": {},
   "outputs": [
    {
     "name": "stdout",
     "output_type": "stream",
     "text": [
      "Predictions shape: (3546,)\n",
      "First 5 predictions: [102.0559    84.11614   85.425026  91.34407   66.115036]\n"
     ]
    }
   ],
   "source": [
    "y_pred = predict(model, X_val)\n",
    "print(\"Predictions shape:\", y_pred.shape)\n",
    "print(\"First 5 predictions:\", y_pred[:5])"
   ]
  },
  {
   "cell_type": "code",
   "execution_count": 13,
   "id": "4e2dc63e",
   "metadata": {},
   "outputs": [
    {
     "name": "stdout",
     "output_type": "stream",
     "text": [
      "Pipeline completed. Sample predictions: [ 91.10553  106.80296  124.87522  116.865814  93.38303 ]\n"
     ]
    }
   ],
   "source": [
    "model, X_val, y_val, y_pred = run_base_model_pipeline(\"fd001_last.npz\")\n",
    "print(\"Pipeline completed. Sample predictions:\", y_pred[:5])"
   ]
  },
  {
   "cell_type": "code",
   "execution_count": 15,
   "id": "d52f4b3f",
   "metadata": {},
   "outputs": [
    {
     "name": "stdout",
     "output_type": "stream",
     "text": [
      "Linear Regression Evaluation:\n",
      "  RMSE: 24.4143\n",
      "  MAE : 20.0134\n"
     ]
    },
    {
     "data": {
      "text/plain": [
       "{'model': 'Linear Regression', 'RMSE': 24.414293, 'MAE': 20.01343}"
      ]
     },
     "execution_count": 15,
     "metadata": {},
     "output_type": "execute_result"
    }
   ],
   "source": [
    "# Evaluate model performance using evaluator module\n",
    "evaluator.evaluate_model(y_val, y_pred, model_name=\"Linear Regression\")"
   ]
  },
  {
   "cell_type": "code",
   "execution_count": null,
   "id": "67d7a5a2",
   "metadata": {},
   "outputs": [],
   "source": []
  }
 ],
 "metadata": {
  "kernelspec": {
   "display_name": "Python 3 (ipykernel)",
   "language": "python",
   "name": "python3"
  },
  "language_info": {
   "codemirror_mode": {
    "name": "ipython",
    "version": 3
   },
   "file_extension": ".py",
   "mimetype": "text/x-python",
   "name": "python",
   "nbconvert_exporter": "python",
   "pygments_lexer": "ipython3",
   "version": "3.10.9"
  }
 },
 "nbformat": 4,
 "nbformat_minor": 5
}
