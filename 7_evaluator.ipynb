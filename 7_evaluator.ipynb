{
 "cells": [
  {
   "cell_type": "markdown",
   "id": "7e535552",
   "metadata": {},
   "source": [
    "# 7 Evaluator"
   ]
  },
  {
   "cell_type": "code",
   "execution_count": 1,
   "id": "830ea364",
   "metadata": {},
   "outputs": [],
   "source": [
    "import numpy as np\n",
    "\n",
    "def rmse(y_true, y_pred):\n",
    "    \"\"\"\n",
    "    Compute Root Mean Squared Error (RMSE).\n",
    "    \"\"\"\n",
    "    y_true, y_pred = np.array(y_true), np.array(y_pred)\n",
    "    return np.sqrt(np.mean((y_true - y_pred) ** 2))\n",
    "\n",
    "def mae(y_true, y_pred):\n",
    "    \"\"\"\n",
    "    Compute Mean Absolute Error (MAE).\n",
    "    \"\"\"\n",
    "    y_true, y_pred = np.array(y_true), np.array(y_pred)\n",
    "    return np.mean(np.abs(y_true - y_pred))\n",
    "\n",
    "def evaluate_model(y_true, y_pred, model_name=\"Model\"):\n",
    "    \"\"\"\n",
    "    Print RMSE and MAE for a given model.\n",
    "    \"\"\"\n",
    "    rmse_score = rmse(y_true, y_pred)\n",
    "    mae_score = mae(y_true, y_pred)\n",
    "    \n",
    "    print(f\"{model_name} Evaluation:\")\n",
    "    print(f\"  RMSE: {rmse_score:.4f}\")\n",
    "    print(f\"  MAE : {mae_score:.4f}\")\n",
    "    \n",
    "    return {\"model\": model_name, \"RMSE\": rmse_score, \"MAE\": mae_score}"
   ]
  },
  {
   "cell_type": "code",
   "execution_count": null,
   "id": "343652c2",
   "metadata": {},
   "outputs": [],
   "source": []
  }
 ],
 "metadata": {
  "kernelspec": {
   "display_name": "Python 3 (ipykernel)",
   "language": "python",
   "name": "python3"
  },
  "language_info": {
   "codemirror_mode": {
    "name": "ipython",
    "version": 3
   },
   "file_extension": ".py",
   "mimetype": "text/x-python",
   "name": "python",
   "nbconvert_exporter": "python",
   "pygments_lexer": "ipython3",
   "version": "3.10.9"
  }
 },
 "nbformat": 4,
 "nbformat_minor": 5
}
