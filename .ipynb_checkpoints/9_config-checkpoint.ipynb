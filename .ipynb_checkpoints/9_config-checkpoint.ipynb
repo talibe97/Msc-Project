{
 "cells": [
  {
   "cell_type": "markdown",
   "id": "9f41bbcc",
   "metadata": {},
   "source": [
    "# 9 Config"
   ]
  },
  {
   "cell_type": "markdown",
   "id": "a4b42447",
   "metadata": {},
   "source": [
    "ideas of what will be coded in here \n",
    "\n",
    "\n",
    "File paths (e.g. raw, preprocessed, models)\n",
    "\n",
    "Default hyperparameters\n",
    "\n",
    "Plot settings (font size, colors)\n",
    "\n",
    "Model toggles (e.g. LSTM_ENABLED = True)\n"
   ]
  },
  {
   "cell_type": "code",
   "execution_count": 5,
   "id": "80cc1ac9",
   "metadata": {},
   "outputs": [
    {
     "name": "stdout",
     "output_type": "stream",
     "text": [
      "✅ All folders checked or created.\n",
      "Project root: C:\\Users\\mg020649\\Documents\\15 - Coding\\NASA Analysis\\the .py files\n",
      "Train FD001: C:\\Users\\mg020649\\Documents\\15 - Coding\\NASA Analysis\\the .py files\\data\\raw\\train_FD001.txt\n",
      "Model Save Dir: C:\\Users\\mg020649\\Documents\\15 - Coding\\NASA Analysis\\the .py files\\models\n",
      "Plots Folder: C:\\Users\\mg020649\\Documents\\15 - Coding\\NASA Analysis\\the .py files\\plots\n",
      "Default Sequence Length: 30\n"
     ]
    }
   ],
   "source": [
    "# === CONFIG VARIABLES AND FUNCTIONS ===\n",
    "# This cell will be copy-pasted into Jupyter for testing\n",
    "\n",
    "import os\n",
    "from pathlib import Path\n",
    "\n",
    "# === 1. Define the root manually for now (adjust if moved later)\n",
    "ROOT_DIR = Path.cwd() / \"the .py files\"  # Relative to current notebook folder\n",
    "\n",
    "# === 2. Define subdirectories\n",
    "RAW_DATA_DIR = ROOT_DIR / \"data\" / \"raw\"\n",
    "TEST_RUL_DIR = ROOT_DIR / \"data\" / \"rul\"\n",
    "PREPROCESSED_DIR = ROOT_DIR / \"data\" / \"processed\"\n",
    "MODEL_DIR = ROOT_DIR / \"models\"\n",
    "RESULTS_DIR = ROOT_DIR / \"results\"\n",
    "PLOTS_DIR = ROOT_DIR / \"plots\"\n",
    "\n",
    "# === 3. Dataset identifiers\n",
    "DATASETS = [\"FD001\", \"FD002\", \"FD003\", \"FD004\"]\n",
    "\n",
    "# === 4. Map dataset names to paths\n",
    "TRAIN_FILES = {ds: RAW_DATA_DIR / f\"train_{ds}.txt\" for ds in DATASETS}\n",
    "TEST_FILES = {ds: RAW_DATA_DIR / f\"test_{ds}.txt\" for ds in DATASETS}\n",
    "RUL_FILES = {ds: TEST_RUL_DIR / f\"RUL_{ds}.txt\" for ds in DATASETS}\n",
    "\n",
    "# === 5. Preprocessing constants\n",
    "DEFAULT_SEQ_LEN = 30\n",
    "DEFAULT_MAX_RUL = 130\n",
    "\n",
    "# === 6. Feature engineering strategy\n",
    "FEATURE_STRATEGY = \"last\"  # Options: 'last', 'mean', 'flat'\n",
    "\n",
    "# === 7. Model Hyperparameters\n",
    "LSTM_PARAMS = {\"epochs\": 20, \"batch_size\": 64}\n",
    "CNN_PARAMS = {\"epochs\": 25, \"batch_size\": 64}\n",
    "CNN_LSTM_PARAMS = {\"epochs\": 40, \"batch_size\": 64, \"patience\": 4}\n",
    "\n",
    "# === 8. Plotting options\n",
    "SHOW_PLOTS = True\n",
    "SAVE_PLOTS = True\n",
    "PLOT_STYLE = \"seaborn-v0_8\"\n",
    "FONT_SIZE = 12\n",
    "\n",
    "# === 9. Toggle individual models\n",
    "ENABLE_BASELINE = True\n",
    "ENABLE_LSTM = True\n",
    "ENABLE_CNN = True\n",
    "ENABLE_CNN_LSTM = False\n",
    "\n",
    "# === 10. Utility: ensure folders exist\n",
    "def ensure_directories():\n",
    "    for folder in [RAW_DATA_DIR, TEST_RUL_DIR, PREPROCESSED_DIR, MODEL_DIR, RESULTS_DIR, PLOTS_DIR]:\n",
    "        folder.mkdir(parents=True, exist_ok=True)\n",
    "    print(\"✅ All folders checked or created.\")\n",
    "\n",
    "# === 11. Test paths (optional)\n",
    "def print_config_overview():\n",
    "    print(\"Project root:\", ROOT_DIR)\n",
    "    print(\"Train FD001:\", TRAIN_FILES[\"FD001\"])\n",
    "    print(\"Model Save Dir:\", MODEL_DIR)\n",
    "    print(\"Plots Folder:\", PLOTS_DIR)\n",
    "    print(\"Default Sequence Length:\", DEFAULT_SEQ_LEN)\n",
    "\n",
    "# === Call to test\n",
    "ensure_directories()\n",
    "print_config_overview()\n"
   ]
  },
  {
   "cell_type": "code",
   "execution_count": null,
   "id": "a6323605",
   "metadata": {},
   "outputs": [],
   "source": []
  }
 ],
 "metadata": {
  "kernelspec": {
   "display_name": "Python 3 (ipykernel)",
   "language": "python",
   "name": "python3"
  },
  "language_info": {
   "codemirror_mode": {
    "name": "ipython",
    "version": 3
   },
   "file_extension": ".py",
   "mimetype": "text/x-python",
   "name": "python",
   "nbconvert_exporter": "python",
   "pygments_lexer": "ipython3",
   "version": "3.9.13"
  }
 },
 "nbformat": 4,
 "nbformat_minor": 5
}
